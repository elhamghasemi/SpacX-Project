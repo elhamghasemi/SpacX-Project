{
 "cells": [
  {
   "cell_type": "code",
   "execution_count": null,
   "id": "dc6e190a",
   "metadata": {},
   "outputs": [],
   "source": [
    "#load row_data\n",
    "import pandas as pd\n",
    "df=pd.read_csv('dataset_falcon9.csv')\n",
    "df.info()"
   ]
  },
  {
   "cell_type": "code",
   "execution_count": null,
   "id": "8b23b17e",
   "metadata": {},
   "outputs": [],
   "source": [
    "#Checking each column\n",
    "df['FlightNumber']\n",
    "df['FlightNumber'].info()\n"
   ]
  },
  {
   "cell_type": "code",
   "execution_count": null,
   "id": "0af4834b",
   "metadata": {},
   "outputs": [],
   "source": [
    "df['BoosterVersion'].info()\n",
    "set(df['BoosterVersion'])"
   ]
  },
  {
   "cell_type": "code",
   "execution_count": null,
   "id": "a15f9c5c",
   "metadata": {},
   "outputs": [],
   "source": [
    "df['PayloadMass'].info()\n"
   ]
  },
  {
   "cell_type": "code",
   "execution_count": null,
   "id": "872b8797",
   "metadata": {},
   "outputs": [],
   "source": [
    "df['Orbit'].info()\n",
    "set(df['Orbit'])"
   ]
  },
  {
   "cell_type": "code",
   "execution_count": null,
   "id": "f33a0b05",
   "metadata": {},
   "outputs": [],
   "source": [
    "df['LaunchSite'].info()\n",
    "set(df['LaunchSite'])"
   ]
  },
  {
   "cell_type": "code",
   "execution_count": null,
   "id": "8163bf4a",
   "metadata": {},
   "outputs": [],
   "source": [
    "df['Outcome'].info()\n",
    "set(df['Outcome'])"
   ]
  },
  {
   "cell_type": "code",
   "execution_count": null,
   "id": "c07c69af",
   "metadata": {},
   "outputs": [],
   "source": [
    "df['Flights'].info()\n",
    "set(df['Flights'])\n"
   ]
  },
  {
   "cell_type": "code",
   "execution_count": null,
   "id": "1f29e090",
   "metadata": {},
   "outputs": [],
   "source": [
    "df['GridFins'].info()\n",
    "set(df['GridFins'])"
   ]
  },
  {
   "cell_type": "code",
   "execution_count": null,
   "id": "b4965347",
   "metadata": {},
   "outputs": [],
   "source": [
    "df['Reused'].info()\n",
    "set(df['Reused'])"
   ]
  },
  {
   "cell_type": "code",
   "execution_count": null,
   "id": "492fb545",
   "metadata": {},
   "outputs": [],
   "source": [
    "df['Legs'].info()\n",
    "set(df['Legs'])"
   ]
  },
  {
   "cell_type": "code",
   "execution_count": null,
   "id": "c084f313",
   "metadata": {},
   "outputs": [],
   "source": [
    "df['LandingPad'].info()\n",
    "set(df['LandingPad'])"
   ]
  },
  {
   "cell_type": "code",
   "execution_count": null,
   "id": "a5a8215b",
   "metadata": {},
   "outputs": [],
   "source": [
    "df['Block'].info()\n",
    "set(df['Block'])"
   ]
  },
  {
   "cell_type": "code",
   "execution_count": null,
   "id": "6b5a1e70",
   "metadata": {},
   "outputs": [],
   "source": [
    "df['ReusedCount'].info()\n",
    "set(df['ReusedCount'])"
   ]
  },
  {
   "cell_type": "code",
   "execution_count": null,
   "id": "27ca7062",
   "metadata": {},
   "outputs": [],
   "source": [
    "df['Serial'].info()\n",
    "set(df['Serial'])"
   ]
  },
  {
   "cell_type": "code",
   "execution_count": null,
   "id": "cb354eb9",
   "metadata": {},
   "outputs": [],
   "source": [
    "df['Longitude'].info()\n",
    "set(df['Longitude'])"
   ]
  },
  {
   "cell_type": "code",
   "execution_count": null,
   "id": "feee7e45",
   "metadata": {},
   "outputs": [],
   "source": [
    "df['Latitude'].info()\n",
    "set(df['Latitude'])"
   ]
  },
  {
   "cell_type": "code",
   "execution_count": null,
   "id": "d45b69be",
   "metadata": {},
   "outputs": [],
   "source": [
    "df['Class'].info()\n",
    "set(df['Class'])"
   ]
  },
  {
   "cell_type": "code",
   "execution_count": null,
   "id": "4ecc74c7",
   "metadata": {},
   "outputs": [],
   "source": [
    "df.describe()"
   ]
  },
  {
   "cell_type": "code",
   "execution_count": null,
   "id": "e551efba",
   "metadata": {},
   "outputs": [],
   "source": [
    "#detecting missing valuas\n",
    "df.columns[df.isna().any()].tolist()"
   ]
  },
  {
   "cell_type": "code",
   "execution_count": null,
   "id": "bb05eb61",
   "metadata": {},
   "outputs": [],
   "source": [
    "df['LandingPad'].isnull().sum()"
   ]
  },
  {
   "cell_type": "code",
   "execution_count": null,
   "id": "51dabf26",
   "metadata": {},
   "outputs": [],
   "source": [
    "#Checking the column with missing value and comparing it with the related column('orbit')\n",
    "df['LandingPad'].value_counts()"
   ]
  },
  {
   "cell_type": "code",
   "execution_count": null,
   "id": "608cc1ef",
   "metadata": {},
   "outputs": [],
   "source": [
    "df[['LandingPad', 'Orbit']]"
   ]
  },
  {
   "cell_type": "code",
   "execution_count": null,
   "id": "1244a4ca",
   "metadata": {},
   "outputs": [],
   "source": [
    "df.info()"
   ]
  },
  {
   "cell_type": "code",
   "execution_count": null,
   "id": "28e52eba",
   "metadata": {},
   "outputs": [],
   "source": [
    "# Removing additional columns that do not affect the analysis\n",
    "df=df.drop(['FlightNumber','Date','BoosterVersion','Longitude','Latitude'],axis=1)\n",
    "df.info()"
   ]
  },
  {
   "cell_type": "code",
   "execution_count": null,
   "id": "77333b02",
   "metadata": {},
   "outputs": [],
   "source": [
    "#Converting columns with objects to numbers\n",
    "df_dummy=pd.get_dummies(df[['Orbit', 'LaunchSite', 'Outcome', 'LandingPad', 'Serial']])\n",
    "df_dummy"
   ]
  },
  {
   "cell_type": "code",
   "execution_count": null,
   "id": "ddbe64aa",
   "metadata": {},
   "outputs": [],
   "source": [
    "#removing previous columns(objects) and merging new columns(numbers) with the dataset\n",
    "df=df.drop(['Orbit', 'LaunchSite', 'Outcome', 'LandingPad', 'Serial'], axis=1)\n",
    "df=pd.concat([df, df_dummy], axis=1)\n"
   ]
  },
  {
   "cell_type": "code",
   "execution_count": null,
   "id": "49932950",
   "metadata": {},
   "outputs": [],
   "source": [
    "#Converting columns with boolean to integer\n",
    "df['GridFins']=df['GridFins'].astype(int)\n",
    "df['Reused']=df['Reused'].astype(int)\n",
    "df['Legs']=df['Legs'].astype(int)"
   ]
  },
  {
   "cell_type": "code",
   "execution_count": null,
   "id": "bfd28dab",
   "metadata": {},
   "outputs": [],
   "source": [
    "df.info()"
   ]
  },
  {
   "cell_type": "code",
   "execution_count": null,
   "id": "bbeef1d1",
   "metadata": {},
   "outputs": [],
   "source": [
    "#Saving preprocessed dataset\n",
    "df.to_csv('E:\\monogram-3\\SpacX_Project\\preprocessed_dataset.csv')"
   ]
  }
 ],
 "metadata": {
  "kernelspec": {
   "display_name": "Python 3 (ipykernel)",
   "language": "python",
   "name": "python3"
  },
  "language_info": {
   "codemirror_mode": {
    "name": "ipython",
    "version": 3
   },
   "file_extension": ".py",
   "mimetype": "text/x-python",
   "name": "python",
   "nbconvert_exporter": "python",
   "pygments_lexer": "ipython3",
   "version": "3.9.13"
  }
 },
 "nbformat": 4,
 "nbformat_minor": 5
}
